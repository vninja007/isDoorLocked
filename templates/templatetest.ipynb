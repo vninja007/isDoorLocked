{
 "cells": [
  {
   "cell_type": "code",
   "execution_count": 20,
   "metadata": {},
   "outputs": [
    {
     "name": "stdout",
     "output_type": "stream",
     "text": [
      "correlation match score: 0.996\n",
      "xmatch = 466 ymatch = 229\n"
     ]
    },
    {
     "data": {
      "text/plain": [
       "True"
      ]
     },
     "execution_count": 20,
     "metadata": {},
     "output_type": "execute_result"
    }
   ],
   "source": [
    "import cv2\n",
    "import numpy as np\n",
    "\n",
    "# read image\n",
    "img = cv2.imread('../doorexopen.png')\n",
    "\n",
    "# read template with alpha\n",
    "tmplt = cv2.imread('template_deadbolt.png', cv2.IMREAD_UNCHANGED)\n",
    "hh, ww = tmplt.shape[:2]\n",
    "\n",
    "# extract template mask as grayscale from alpha channel and make 3 channels\n",
    "tmplt_mask = tmplt[:,:,3]\n",
    "tmplt_mask = cv2.merge([tmplt_mask,tmplt_mask,tmplt_mask])\n",
    "\n",
    "# extract templt2 without alpha channel from tmplt\n",
    "tmplt2 = tmplt[:,:,0:3]\n",
    "\n",
    "# do template matching\n",
    "corrimg = cv2.matchTemplate(img,tmplt2,cv2.TM_CCORR_NORMED, mask=tmplt_mask)\n",
    "min_val, max_val, min_loc, max_loc = cv2.minMaxLoc(corrimg)\n",
    "max_val_ncc = '{:.3f}'.format(max_val)\n",
    "print(\"correlation match score: \" + max_val_ncc)\n",
    "xx = max_loc[0]\n",
    "yy = max_loc[1]\n",
    "print('xmatch =',xx,'ymatch =',yy)\n",
    "\n",
    "# draw red bounding box to define match location\n",
    "result = img.copy()\n",
    "pt1 = (xx,yy)\n",
    "pt2 = (xx+ww, yy+hh)\n",
    "cv2.rectangle(result, pt1, pt2, (0,0,255), 1)\n",
    "\n",
    "#cv2.imshow('image', img)\n",
    "#cv2.imshow('template2', tmplt2)\n",
    "#cv2.imshow('template_mask', tmplt_mask)\n",
    "cv2.imshow('result', result)\n",
    "cv2.waitKey(0)\n",
    "cv2.destroyAllWindows()\n",
    "\n",
    "# save results\n",
    "cv2.imwrite('logo_hat_match2.png', result)"
   ]
  },
  {
   "cell_type": "code",
   "execution_count": 12,
   "metadata": {},
   "outputs": [
    {
     "name": "stdout",
     "output_type": "stream",
     "text": [
      "(array([247, 248, 248, 248, 249, 249, 249, 249, 249, 250, 250, 250, 250,\n",
      "       250, 250, 251, 251, 251, 251, 251, 251, 252, 252, 252, 252, 252,\n",
      "       253, 253, 253, 253, 253, 253, 254, 254, 254, 254, 254, 255, 255,\n",
      "       255, 255, 255, 256, 256, 256, 256, 256, 257, 257, 257, 257, 257,\n",
      "       257, 257, 258, 258, 258, 258, 258, 258, 259, 259, 259, 259, 259,\n",
      "       260, 260, 260, 260, 343, 343, 343, 343, 343, 344, 344, 344, 344,\n",
      "       344, 344, 344, 345, 345, 345, 345, 345, 345, 345, 345, 346, 346,\n",
      "       346, 346, 346, 346, 346, 347, 347, 347, 347, 347, 347, 348, 348,\n",
      "       348, 348, 513, 513, 513, 513, 514, 514, 514, 514, 514, 514, 514,\n",
      "       514, 515, 515, 515, 515, 515, 515, 515, 515, 515, 516, 516, 516,\n",
      "       516, 516, 516, 516, 516, 516, 516, 517, 517, 517, 517, 517, 517,\n",
      "       517, 517, 517, 517, 518, 518, 518, 518, 518, 518, 518, 518, 518,\n",
      "       518, 519, 519, 519, 519, 519, 519, 519, 519, 519, 520, 520, 520,\n",
      "       520, 520, 520, 520], dtype=int64), array([339, 338, 339, 340, 337, 338, 339, 340, 341, 336, 337, 338, 339,\n",
      "       340, 341, 336, 337, 338, 339, 340, 341, 336, 337, 338, 339, 340,\n",
      "       335, 336, 337, 338, 339, 340, 336, 337, 338, 339, 340, 336, 337,\n",
      "       338, 339, 340, 336, 337, 338, 339, 340, 335, 336, 337, 338, 339,\n",
      "       340, 341, 336, 337, 338, 339, 340, 341, 336, 337, 338, 339, 340,\n",
      "       336, 337, 338, 339, 331, 332, 333, 334, 335, 330, 331, 332, 333,\n",
      "       334, 335, 336, 329, 330, 331, 332, 333, 334, 335, 336, 329, 330,\n",
      "       331, 332, 333, 334, 335, 329, 330, 331, 332, 333, 334, 330, 331,\n",
      "       332, 333, 951, 952, 953, 954, 948, 949, 950, 951, 952, 953, 954,\n",
      "       955, 947, 948, 949, 950, 951, 952, 953, 954, 955, 947, 948, 949,\n",
      "       950, 951, 952, 953, 954, 955, 956, 947, 948, 949, 950, 951, 952,\n",
      "       953, 954, 955, 956, 947, 948, 949, 950, 951, 952, 953, 954, 955,\n",
      "       956, 948, 949, 950, 951, 952, 953, 954, 955, 956, 950, 951, 952,\n",
      "       953, 954, 955, 956], dtype=int64))\n"
     ]
    }
   ],
   "source": []
  }
 ],
 "metadata": {
  "kernelspec": {
   "display_name": "work",
   "language": "python",
   "name": "python3"
  },
  "language_info": {
   "codemirror_mode": {
    "name": "ipython",
    "version": 3
   },
   "file_extension": ".py",
   "mimetype": "text/x-python",
   "name": "python",
   "nbconvert_exporter": "python",
   "pygments_lexer": "ipython3",
   "version": "3.11.5"
  }
 },
 "nbformat": 4,
 "nbformat_minor": 2
}
