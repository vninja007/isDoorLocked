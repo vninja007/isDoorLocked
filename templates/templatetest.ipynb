{
 "cells": [
  {
   "cell_type": "code",
   "execution_count": 16,
   "metadata": {},
   "outputs": [
    {
     "name": "stdout",
     "output_type": "stream",
     "text": [
      "correlation match score: 0.959\n",
      "xmatch = 341 ymatch = 274\n",
      "(341, 274) (394, 332)\n"
     ]
    },
    {
     "data": {
      "text/plain": [
       "True"
      ]
     },
     "execution_count": 16,
     "metadata": {},
     "output_type": "execute_result"
    }
   ],
   "source": [
    "import cv2\n",
    "import numpy as np\n",
    "\n",
    "# read image\n",
    "img = cv2.imread('../testtwo.png')\n",
    "\n",
    "# read template with alpha\n",
    "tmplt = cv2.imread('template_open2.png', cv2.IMREAD_UNCHANGED)\n",
    "hh, ww = tmplt.shape[:2]\n",
    "\n",
    "# extract template mask as grayscale from alpha channel and make 3 channels\n",
    "tmplt_mask = tmplt[:,:,3]\n",
    "tmplt_mask = cv2.merge([tmplt_mask,tmplt_mask,tmplt_mask])\n",
    "\n",
    "# extract templt2 without alpha channel from tmplt\n",
    "tmplt2 = tmplt[:,:,0:3]\n",
    "\n",
    "# do template matching\n",
    "corrimg = cv2.matchTemplate(img,tmplt2,cv2.TM_CCORR_NORMED, mask=tmplt_mask)\n",
    "min_val, max_val, min_loc, max_loc = cv2.minMaxLoc(corrimg)\n",
    "max_val_ncc = '{:.3f}'.format(max_val)\n",
    "print(\"correlation match score: \" + max_val_ncc)\n",
    "xx = max_loc[0]\n",
    "yy = max_loc[1]\n",
    "print('xmatch =',xx,'ymatch =',yy)\n",
    "\n",
    "# draw red bounding box to define match location\n",
    "result = img.copy()\n",
    "pt1 = (xx,yy)\n",
    "pt2 = (xx+ww, yy+hh)\n",
    "cv2.rectangle(result, pt1, pt2, (0,0,255), 1)\n",
    "\n",
    "#cv2.imshow('image', img)\n",
    "#cv2.imshow('template2', tmplt2)\n",
    "#cv2.imshow('template_mask', tmplt_mask)\n",
    "print(pt1, pt2)\n",
    "newimg = img[pt1[1]:pt2[1], pt1[0]:pt2[0]]\n",
    "newimg = newimg[len(newimg)//3:2*len(newimg)//3, len(newimg[0])//3:2*len(newimg[0])//3]\n",
    "cv2.imshow('result', result)\n",
    "cv2.waitKey(0)\n",
    "cv2.destroyAllWindows()\n",
    "\n",
    "# save results\n",
    "cv2.imwrite('closedmatch2.png', newimg)\n",
    "\n"
   ]
  },
  {
   "cell_type": "code",
   "execution_count": null,
   "metadata": {},
   "outputs": [],
   "source": []
  },
  {
   "cell_type": "code",
   "execution_count": null,
   "metadata": {},
   "outputs": [],
   "source": []
  }
 ],
 "metadata": {
  "kernelspec": {
   "display_name": "work",
   "language": "python",
   "name": "python3"
  },
  "language_info": {
   "codemirror_mode": {
    "name": "ipython",
    "version": 3
   },
   "file_extension": ".py",
   "mimetype": "text/x-python",
   "name": "python",
   "nbconvert_exporter": "python",
   "pygments_lexer": "ipython3",
   "version": "3.11.5"
  }
 },
 "nbformat": 4,
 "nbformat_minor": 2
}
